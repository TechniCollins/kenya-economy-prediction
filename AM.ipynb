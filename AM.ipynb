{
 "cells": [
  {
   "cell_type": "markdown",
   "id": "df361ad2",
   "metadata": {},
   "source": [
    "# Introduction\n",
    "ARIMA (AutoRegressive Integrated Moving Average) model is a popular time series analysis and forecasting method used in econometrics, finance, and other fields. It is a class of statistical models that captures the stochastic nature of a time series and its underlying patterns.\n",
    "\n",
    "The ARIMA model has three components:\n",
    "\n",
    "Autoregression (AR) - A regression model that uses lagged values of the time series to predict its current value.\n",
    "\n",
    "Moving Average (MA) - A model that uses the past errors of the time series to predict its current value.\n",
    "\n",
    "Integration (I) - A differencing process that transforms a non-stationary time series into a stationary one by computing the differences between consecutive observations.\n",
    "\n",
    "The notation for an ARIMA model is ARIMA(p, d, q), where:\n",
    "\n",
    "* p: the order of the autoregressive part\n",
    "* d: the degree of differencing\n",
    "* q: the order of the moving average part\n",
    "\n",
    "The selection of the values for p, d, and q is typically done using statistical methods such as the Akaike information criterion (AIC) or the Bayesian information criterion (BIC). Once the optimal values for p, d, and q are determined, the ARIMA model can be used to make predictions about future values of the time series. "
   ]
  },
  {
   "cell_type": "markdown",
   "id": "8c46d1ab",
   "metadata": {},
   "source": [
    "## key features\n",
    "\n",
    "* Time: dates or time intervals at which the exchange rate was recorded.\n",
    "\n",
    "* Exchange rate values: actual exchange rate values for each date.\n",
    "\n",
    "* Stationarity: It is important to ensure that the exchange rate time series is stationary. If it is not stationary, you will need to transform it by differencing or other methods to make it stationary.\n",
    "\n",
    "* Autocorrelation: You will need to assess the autocorrelation of the exchange rate time series. If there is significant autocorrelation, it suggests that there is a pattern in the data that can be modeled using ARIMA.\n",
    "\n",
    "* Seasonality: If the exchange rate time series exhibits a seasonal pattern, you will need to incorporate seasonality into the ARIMA model using seasonal differencing or other methods.\n",
    "\n",
    "* Outliers: You will need to identify and handle any outliers in the data that could skew the results of the ARIMA model.\n",
    "\n",
    "* Missing values: If there are any missing values in the data, you will need to decide on an appropriate method for filling in the missing values, such as interpolation or imputation."
   ]
  },
  {
   "cell_type": "code",
   "execution_count": 2,
   "id": "9ecb7924",
   "metadata": {},
   "outputs": [],
   "source": [
    "# import relevant libraries\n",
    "import pandas as pd"
   ]
  },
  {
   "cell_type": "code",
   "execution_count": 4,
   "id": "55453f52",
   "metadata": {},
   "outputs": [],
   "source": [
    "data = pd.read_csv(\"data/historical_data.csv\")"
   ]
  },
  {
   "cell_type": "code",
   "execution_count": 15,
   "id": "6a8ae826",
   "metadata": {},
   "outputs": [
    {
     "data": {
      "text/plain": [
       "array(['SA RAND', 'CAN $', 'AE DIRHAM', 'SW KRONER', 'SINGAPORE $',\n",
       "       'SAUDI RIYAL', 'NOR KRONER', 'KES/USHS', 'KES / RWF', 'KES / TSHS',\n",
       "       'KES / USHS', 'US DOLLAR', 'EURO', 'STG POUND', 'S FRANC',\n",
       "       'JPY (100)', 'AUSTRALIAN $', 'CHINESE YUAN', 'SINGAPORE DOLLAR',\n",
       "       'HONGKONG DOLLAR', 'IND RUPEE', 'DAN KRONER', 'KES / BIF', nan],\n",
       "      dtype=object)"
      ]
     },
     "execution_count": 15,
     "metadata": {},
     "output_type": "execute_result"
    }
   ],
   "source": [
    "data[\"AE DIRHAM\"].unique()"
   ]
  },
  {
   "cell_type": "code",
   "execution_count": null,
   "id": "9b966bd4",
   "metadata": {},
   "outputs": [],
   "source": []
  }
 ],
 "metadata": {
  "kernelspec": {
   "display_name": "arima_env",
   "language": "python",
   "name": "arima_env"
  },
  "language_info": {
   "codemirror_mode": {
    "name": "ipython",
    "version": 3
   },
   "file_extension": ".py",
   "mimetype": "text/x-python",
   "name": "python",
   "nbconvert_exporter": "python",
   "pygments_lexer": "ipython3",
   "version": "3.10.6"
  }
 },
 "nbformat": 4,
 "nbformat_minor": 5
}
